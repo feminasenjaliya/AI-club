{
 "cells": [
  {
   "cell_type": "code",
   "execution_count": 9,
   "metadata": {},
   "outputs": [
    {
     "data": {
      "text/plain": [
       "'true'"
      ]
     },
     "execution_count": 9,
     "metadata": {},
     "output_type": "execute_result"
    }
   ],
   "source": [
    "import re\n",
    "from itertools import chain\n",
    "def QuestionsMarks(str): \n",
    "    workingStr=re.sub(r'[a-zA-Z]','',str)\n",
    "    matchingStr=re.findall(r'(\\d)\\?\\?\\?(\\d)',workingStr)\n",
    "    for match in matchingStr:\n",
    "        if int(match[0])+int(match[1])==10:\n",
    "            return \"true\"\n",
    "    return \"false\"\n",
    "str=\"acc?7??sss?3rr1??????5\"\n",
    "type(str)\n",
    "QuestionsMarks(str)"
   ]
  },
  {
   "cell_type": "code",
   "execution_count": null,
   "metadata": {},
   "outputs": [],
   "source": []
  }
 ],
 "metadata": {
  "kernelspec": {
   "display_name": "Python 3",
   "language": "python",
   "name": "python3"
  },
  "language_info": {
   "codemirror_mode": {
    "name": "ipython",
    "version": 3
   },
   "file_extension": ".py",
   "mimetype": "text/x-python",
   "name": "python",
   "nbconvert_exporter": "python",
   "pygments_lexer": "ipython3",
   "version": "3.7.3"
  }
 },
 "nbformat": 4,
 "nbformat_minor": 2
}
