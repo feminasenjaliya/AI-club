{
 "cells": [
  {
   "cell_type": "code",
   "execution_count": 6,
   "metadata": {},
   "outputs": [
    {
     "name": "stdout",
     "output_type": "stream",
     "text": [
      "initial list  ['[13,4]', '[1,2,3,6,14]']\n",
      "final_result ['[', '1', '3', ',', '4', ']', '[', '1', ',', '2', ',', '3', ',', '6', ',', '1', '4', ']']\n",
      "3,6\n"
     ]
    }
   ],
   "source": [
    "import itertools\n",
    "from itertools import chain \n",
    "def ScaleBalancing(strArr):\n",
    "    x =  eval(strArr[0])\n",
    "    y =  eval(strArr[1])\n",
    "    for strArr in y:\n",
    "        if x[0] + strArr == x[1] or x[1] + strArr == x[0]:\n",
    "            return str(strArr)\n",
    "    for pair in itertools.permutations(y, 2):\n",
    "        if pair[0] + x[0] == x[1] + pair[1] or pair[0] + x[1] == pair[1] + x[0] or pair[0] + pair[1] + x[0] == x[1] or pair[0] + pair[1] + x[1] == x[0]:\n",
    "            l, i = min(pair), max(pair)\n",
    "            return ','.join([str(l), str(i)])\n",
    "    return 'not possible'\n",
    "\n",
    "ini_list=([\"[13,4]\",\"[1,2,3,6,14]\"])\n",
    "\n",
    "\n",
    "# printing initial list \n",
    "print (\"initial list \", str(ini_list)) \n",
    "  \n",
    "# converting 2d list into 1d \n",
    "# using chain.from_iterables \n",
    "flatten_list = list(chain.from_iterable(ini_list)) \n",
    "  \n",
    "# printing flatten_list \n",
    "print (\"final_result\", str(flatten_list)) \n",
    "\n",
    "print(ScaleBalancing(ini_list))"
   ]
  },
  {
   "cell_type": "code",
   "execution_count": null,
   "metadata": {},
   "outputs": [],
   "source": []
  }
 ],
 "metadata": {
  "kernelspec": {
   "display_name": "Python 3",
   "language": "python",
   "name": "python3"
  },
  "language_info": {
   "codemirror_mode": {
    "name": "ipython",
    "version": 3
   },
   "file_extension": ".py",
   "mimetype": "text/x-python",
   "name": "python",
   "nbconvert_exporter": "python",
   "pygments_lexer": "ipython3",
   "version": "3.7.3"
  }
 },
 "nbformat": 4,
 "nbformat_minor": 2
}
